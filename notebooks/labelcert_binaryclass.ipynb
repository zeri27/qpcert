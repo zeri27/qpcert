{
 "cells": [
  {
   "cell_type": "code",
   "execution_count": 1,
   "metadata": {
    "ExecuteTime": {
     "end_time": "2025-05-10T16:05:11.922381100Z",
     "start_time": "2025-05-10T16:05:11.734341Z"
    }
   },
   "outputs": [],
   "source": [
    "%load_ext autoreload\n",
    "%autoreload 2"
   ]
  },
  {
   "cell_type": "code",
   "execution_count": 2,
   "metadata": {
    "ExecuteTime": {
     "end_time": "2025-05-10T16:05:21.246098400Z",
     "start_time": "2025-05-10T16:05:11.926370300Z"
    }
   },
   "outputs": [
    {
     "ename": "ImportError",
     "evalue": "cannot import name 'prepare' from 'common' (C:\\Users\\zerya\\OneDrive\\Desktop\\TU Delft\\000 MASTERS\\Q4\\Scalable ML Research\\qpcert\\common.py)",
     "output_type": "error",
     "traceback": [
      "\u001B[31m---------------------------------------------------------------------------\u001B[39m",
      "\u001B[31mImportError\u001B[39m                               Traceback (most recent call last)",
      "\u001B[36mCell\u001B[39m\u001B[36m \u001B[39m\u001B[32mIn[2]\u001B[39m\u001B[32m, line 3\u001B[39m\n\u001B[32m      1\u001B[39m \u001B[38;5;28;01mimport\u001B[39;00m\u001B[38;5;250m \u001B[39m\u001B[34;01mtorch\u001B[39;00m\n\u001B[32m      2\u001B[39m \u001B[38;5;28;01mimport\u001B[39;00m\u001B[38;5;250m \u001B[39m\u001B[34;01mnumpy\u001B[39;00m\u001B[38;5;250m \u001B[39m\u001B[38;5;28;01mas\u001B[39;00m\u001B[38;5;250m \u001B[39m\u001B[34;01mnp\u001B[39;00m\n\u001B[32m----> \u001B[39m\u001B[32m3\u001B[39m \u001B[38;5;28;01mfrom\u001B[39;00m\u001B[38;5;250m \u001B[39m\u001B[34;01mcommon\u001B[39;00m\u001B[38;5;250m \u001B[39m\u001B[38;5;28;01mimport\u001B[39;00m prepare\n\u001B[32m      4\u001B[39m prepare()\n\u001B[32m      5\u001B[39m \u001B[38;5;28;01mfrom\u001B[39;00m\u001B[38;5;250m \u001B[39m\u001B[34;01mexp_labelcert_binaryclass\u001B[39;00m\u001B[38;5;250m \u001B[39m\u001B[38;5;28;01mimport\u001B[39;00m run\n",
      "\u001B[31mImportError\u001B[39m: cannot import name 'prepare' from 'common' (C:\\Users\\zerya\\OneDrive\\Desktop\\TU Delft\\000 MASTERS\\Q4\\Scalable ML Research\\qpcert\\common.py)"
     ]
    }
   ],
   "source": [
    "import torch\n",
    "import numpy as np\n",
    "from common import prepare\n",
    "prepare()\n",
    "from exp_labelcert_binaryclass import run"
   ]
  },
  {
   "cell_type": "code",
   "execution_count": null,
   "metadata": {
    "ExecuteTime": {
     "end_time": "2025-05-10T16:05:21.262911100Z",
     "start_time": "2025-05-10T16:05:21.251103600Z"
    }
   },
   "outputs": [],
   "source": [
    "# example model set to GCN. For other model defintions \n",
    "# check one of the config files under config/label_certification_collective\n",
    "model_params = dict(\n",
    "    label = \"GCN\", \n",
    "    model = \"GCN\", \n",
    "    normalization = \"row_normalization\",\n",
    "    activation = \"relu\",\n",
    "    depth = 1,\n",
    "    regularizer = 0.01,\n",
    "    pred_method = \"svm\",\n",
    "    bias = False,\n",
    "    alpha_tol = 1e-4,\n",
    "    solver = \"qplayer\",\n",
    ")\n",
    "\n",
    "certificate_params = dict(\n",
    "    delta = 0.01,\n",
    "    TimeLimit = 86400,\n",
    "    LogToConsole = 1,\n",
    "    OutputFlag = 1,\n",
    "    Threads = 2,\n",
    "    Presolve = 2\n",
    ")\n",
    "\n",
    "verbosity_params = dict(\n",
    "    debug_lvl = \"warning\"\n",
    ")  \n",
    "\n",
    "other_params = dict(\n",
    "    device = \"0\",\n",
    "    dtype = torch.float64,\n",
    "    allow_tf32 = False,\n",
    "    path_gurobi_license = \"path/to/your/gurobi/license\"\n",
    ")"
   ]
  },
  {
   "cell_type": "code",
   "execution_count": null,
   "metadata": {
    "ExecuteTime": {
     "start_time": "2025-05-10T16:05:21.254385Z"
    }
   },
   "outputs": [],
   "source": [
    "seed = 0\n",
    "\n",
    "data_params = dict(\n",
    "    dataset = \"csbm\",\n",
    "    learning_setting = \"transductive\", \n",
    "    specification = dict(\n",
    "        classes = 2,\n",
    "        n_trn_labeled = 10,\n",
    "        n_trn_unlabeled = 0,\n",
    "        n_val = 10,\n",
    "        n_test = 180,\n",
    "        sigma = 1,\n",
    "        avg_within_class_degree = 1.58 * 2,\n",
    "        avg_between_class_degree = 0.37 * 2,\n",
    "        K = 1.5,\n",
    "        seed = 0 # used to generate the dataset & data split\n",
    "    )\n",
    ")\n",
    "'''\n",
    "example for CBA \n",
    "data_params = dict(\n",
    "    dataset = \"cba\",\n",
    "    learning_setting = \"transductive\", \n",
    "    specification = dict(\n",
    "        classes = 2,\n",
    "        n_trn_labeled = 10,\n",
    "        n_trn_unlabeled = 0,\n",
    "        n_val = 10,\n",
    "        n_test = 180,\n",
    "        sigma = 1,\n",
    "        avg_within_class_degree = 1.58 * 2,\n",
    "        avg_between_class_degree = 0.37 * 2,\n",
    "        K = 1.5,\n",
    "        m = 2,\n",
    "        seed = 0 # used to generate the dataset & data split\n",
    "    )\n",
    ")\n",
    "\n",
    "example for citeseerb or cora-mlb\n",
    "data_params = dict(\n",
    "    dataset = \"cora_ml_binary\", # use \"citeseer_binary\" for citeseer\n",
    "    learning_setting = \"transductive\", \n",
    "    specification = dict(\n",
    "        n_per_class = 10,\n",
    "        fraction_test = 0.01,\n",
    "        data_dir = \"./data\",\n",
    "        make_undirected = True,\n",
    "        balance_test = True,\n",
    "    )\n",
    ")\n",
    "'''"
   ]
  },
  {
   "cell_type": "code",
   "execution_count": null,
   "metadata": {
    "ExecuteTime": {
     "start_time": "2025-05-10T16:05:21.257912100Z"
    }
   },
   "outputs": [],
   "source": [
    "result = run(data_params, model_params, certificate_params, verbosity_params, other_params, seed)\n",
    "result"
   ]
  }
 ],
 "metadata": {
  "kernelspec": {
   "display_name": "py311",
   "language": "python",
   "name": "python3"
  },
  "language_info": {
   "codemirror_mode": {
    "name": "ipython",
    "version": 3
   },
   "file_extension": ".py",
   "mimetype": "text/x-python",
   "name": "python",
   "nbconvert_exporter": "python",
   "pygments_lexer": "ipython3",
   "version": "3.11.4"
  }
 },
 "nbformat": 4,
 "nbformat_minor": 2
}
