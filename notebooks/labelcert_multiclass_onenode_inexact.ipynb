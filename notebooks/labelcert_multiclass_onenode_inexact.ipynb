{
 "cells": [
  {
   "cell_type": "code",
   "execution_count": 3,
   "metadata": {
    "ExecuteTime": {
     "end_time": "2025-05-10T17:26:48.626339200Z",
     "start_time": "2025-05-10T17:26:48.344204100Z"
    }
   },
   "outputs": [
    {
     "name": "stdout",
     "output_type": "stream",
     "text": [
      "The autoreload extension is already loaded. To reload it, use:\n",
      "  %reload_ext autoreload\n"
     ]
    }
   ],
   "source": [
    "%load_ext autoreload\n",
    "%autoreload 2"
   ]
  },
  {
   "cell_type": "code",
   "execution_count": 4,
   "metadata": {
    "ExecuteTime": {
     "end_time": "2025-05-10T17:26:54.119859800Z",
     "start_time": "2025-05-10T17:26:48.617239100Z"
    }
   },
   "outputs": [
    {
     "ename": "AttributeError",
     "evalue": "module 'seml' has no attribute 'setup_logger'",
     "output_type": "error",
     "traceback": [
      "\u001B[31m---------------------------------------------------------------------------\u001B[39m",
      "\u001B[31mAttributeError\u001B[39m                            Traceback (most recent call last)",
      "\u001B[36mCell\u001B[39m\u001B[36m \u001B[39m\u001B[32mIn[4]\u001B[39m\u001B[32m, line 9\u001B[39m\n\u001B[32m      7\u001B[39m     \u001B[38;5;28;01mif\u001B[39;00m module_path \u001B[38;5;129;01mnot\u001B[39;00m \u001B[38;5;129;01min\u001B[39;00m sys.path:\n\u001B[32m      8\u001B[39m         sys.path.append(module_path)\n\u001B[32m----> \u001B[39m\u001B[32m9\u001B[39m \u001B[38;5;28;01mfrom\u001B[39;00m\u001B[38;5;250m \u001B[39m\u001B[34;01mexp_labelcert_multiclass_onenode_inexact\u001B[39;00m\u001B[38;5;250m \u001B[39m\u001B[38;5;28;01mimport\u001B[39;00m run\n",
      "\u001B[36mFile \u001B[39m\u001B[32m~\\OneDrive\\Desktop\\TU Delft\\000 MASTERS\\Q4\\Scalable ML Research\\qpcert\\exp_labelcert_multiclass_onenode_inexact.py:25\u001B[39m\n\u001B[32m     23\u001B[39m ex = Experiment()\n\u001B[32m     24\u001B[39m ex.captured_out_filter = apply_backspaces_and_linefeeds\n\u001B[32m---> \u001B[39m\u001B[32m25\u001B[39m \u001B[43mseml\u001B[49m\u001B[43m.\u001B[49m\u001B[43msetup_logger\u001B[49m(ex)\n\u001B[32m     28\u001B[39m \u001B[38;5;129m@ex\u001B[39m.post_run_hook\n\u001B[32m     29\u001B[39m \u001B[38;5;28;01mdef\u001B[39;00m\u001B[38;5;250m \u001B[39m\u001B[34mcollect_stats\u001B[39m(_run):\n\u001B[32m     30\u001B[39m     seml.collect_exp_stats(_run)\n",
      "\u001B[31mAttributeError\u001B[39m: module 'seml' has no attribute 'setup_logger'"
     ]
    }
   ],
   "source": [
    "import sys\n",
    "import os\n",
    "import torch\n",
    "import numpy as np\n",
    "def prepare():\n",
    "    module_path = os.path.abspath(os.path.join('..'))\n",
    "    if module_path not in sys.path:\n",
    "        sys.path.append(module_path)\n",
    "from exp_labelcert_multiclass_onenode_inexact import run"
   ]
  },
  {
   "cell_type": "code",
   "execution_count": null,
   "metadata": {
    "ExecuteTime": {
     "start_time": "2025-05-10T17:26:54.126260200Z"
    }
   },
   "outputs": [],
   "source": [
    "seed = 0\n",
    "\n",
    "data_params = dict(\n",
    "    dataset = \"citeseer\", # otherwise use cora_ml \n",
    "    learning_setting = \"transductive\", # or \"transdructive\"\n",
    "    specification = dict(\n",
    "        n_per_class = 10,\n",
    "        fraction_test = 0.1,\n",
    "        data_dir = \"./data\",\n",
    "        make_undirected = True,\n",
    "        binary_attr = False,\n",
    "        balance_test = True,\n",
    "        seed = 0\n",
    "    )\n",
    ")\n",
    "\n",
    "model_params = dict(\n",
    "    label = \"GCN\",\n",
    "    model = \"GCN\",\n",
    "    normalization = \"row_normalization\",\n",
    "    depth = 1,\n",
    "    regularizer = 0.0001,\n",
    "    pred_method = \"svm\",\n",
    "    activation = \"relu\",\n",
    "    solver = \"qplayer_one_vs_all\",\n",
    "    alpha_tol = 1e-4,\n",
    "    bias = False,\n",
    ")\n",
    "\n",
    "certificate_params = dict(\n",
    "    target_idx = 5,\n",
    "    delta = 0.1, # l0: local budget = delta * feature_dim\n",
    "    delta_absolute = True,\n",
    "    LogToConsole = 1,\n",
    "    OutputFlag = 1,\n",
    "    use_tight_big_M = 1,\n",
    "    Presolve = 2,\n",
    "    alpha_tol = 1e-4,\n",
    ")\n",
    "\n",
    "verbosity_params = dict(\n",
    "    debug_lvl = \"info\"\n",
    ")  \n",
    "\n",
    "other_params = dict(\n",
    "    device = \"cpu\",\n",
    "    debug = False,\n",
    "    dtype = torch.float64,\n",
    "    allow_tf32 = False,\n",
    "    enable_gradient = False,\n",
    "    path_gurobi_license = \"path/to/your/gurobi/license\"\n",
    ")"
   ]
  },
  {
   "cell_type": "code",
   "execution_count": null,
   "metadata": {
    "ExecuteTime": {
     "end_time": "2025-05-10T17:26:54.130295100Z",
     "start_time": "2025-05-10T17:26:54.128276800Z"
    }
   },
   "outputs": [],
   "source": [
    "run(data_params, model_params, certificate_params, verbosity_params, other_params, seed)\n"
   ]
  }
 ],
 "metadata": {
  "kernelspec": {
   "display_name": "py311_ntk",
   "language": "python",
   "name": "python3"
  },
  "language_info": {
   "codemirror_mode": {
    "name": "ipython",
    "version": 3
   },
   "file_extension": ".py",
   "mimetype": "text/x-python",
   "name": "python",
   "nbconvert_exporter": "python",
   "pygments_lexer": "ipython3",
   "version": "3.11.5"
  }
 },
 "nbformat": 4,
 "nbformat_minor": 2
}
